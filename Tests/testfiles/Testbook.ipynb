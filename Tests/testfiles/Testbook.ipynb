{
 "cells": [
  {
   "cell_type": "code",
   "execution_count": null,
   "id": "b4f9f343-aa39-41ae-851b-a59b603c444f",
   "metadata": {},
   "outputs": [],
   "source": [
    "import os\n",
    "import numpy as np"
   ]
  },
  {
   "cell_type": "markdown",
   "id": "b89b09b5-7288-410e-9909-bdbf607eab91",
   "metadata": {},
   "source": [
    "# Heading"
   ]
  },
  {
   "cell_type": "code",
   "execution_count": null,
   "id": "8bc32085-66aa-4116-a521-ff51c17d72e2",
   "metadata": {},
   "outputs": [],
   "source": [
    "for i in range(0, 10):\n",
    "    print(i)"
   ]
  },
  {
   "cell_type": "code",
   "execution_count": null,
   "id": "66f596c6-0c52-49dc-9dd0-8afa49b64456",
   "metadata": {},
   "outputs": [],
   "source": [
    "# %script end%"
   ]
  },
  {
   "cell_type": "code",
   "execution_count": null,
   "id": "a0583bf4-8c72-451c-9001-60a3d88393e2",
   "metadata": {},
   "outputs": [],
   "source": [
    "print(\"lorem ipsum\")"
   ]
  }
 ],
 "metadata": {
  "kernelspec": {
   "display_name": "Python 3 (ipykernel)",
   "language": "python",
   "name": "python3"
  },
  "language_info": {
   "codemirror_mode": {
    "name": "ipython",
    "version": 3
   },
   "file_extension": ".py",
   "mimetype": "text/x-python",
   "name": "python",
   "nbconvert_exporter": "python",
   "pygments_lexer": "ipython3",
   "version": "3.11.1"
  }
 },
 "nbformat": 4,
 "nbformat_minor": 5
}
