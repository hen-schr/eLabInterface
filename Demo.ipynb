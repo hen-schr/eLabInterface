{
 "cells": [
  {
   "cell_type": "markdown",
   "id": "0eea9b42-4fa6-4033-80fc-dd0ede8b3646",
   "metadata": {},
   "source": [
    "This notebook demonstrates the current capabilities of the eLabInterface package. This package uses the python package provided by eLabFTW for API requests, but attempts to integrate its functions in a more user-friendly environment to facilitate the use for researchers who do not wish to be concerned with HTTP requests and the data processing required to get the data of an ELN entry into a format that can easily be used in python."
   ]
  },
  {
   "cell_type": "markdown",
   "id": "05ea2af7-617d-4666-b80a-d6ab94fe72bb",
   "metadata": {},
   "source": [
    "# Demo ELN entry\n",
    "The following ELN entry was created as a demo entry to demonstrte the functions currently available. It is meant as a general representation of an arbitrary experiment which contains some data in diverse formats. It contains various tables in the main body, as well as attachments and makes use of other functions of eLabFTW such as steps or extra fields. Not all elements are easily accessible using eLabInterface at the moment.\n",
    "\n",
    "![title](01.png)"
   ]
  },
  {
   "cell_type": "markdown",
   "id": "465372d1-b668-4c69-bcd6-643afe479866",
   "metadata": {},
   "source": [
    "# Using eLabAPI"
   ]
  },
  {
   "cell_type": "code",
   "execution_count": 1,
   "id": "89ca2d4f-55fb-499c-abc1-693e5ad74fc4",
   "metadata": {},
   "outputs": [],
   "source": [
    "import eLabAPI"
   ]
  },
  {
   "cell_type": "markdown",
   "id": "95268467-7ae3-46e2-90ef-8897390a316c",
   "metadata": {},
   "source": [
    "## Requirements\n",
    "For the eLabAPI module to work, the `elabapi-python` package needs to be installed and a virtual environment needs to be created, according to the [the documentation](https://github.com/elabftw/elabapi-python):\n",
    "```\n",
    "# create a virtual environment\n",
    "python -m venv elab\n",
    "# activate it\n",
    "source elab/bin/activate\n",
    "# on Windows\n",
    "# C:\\> elab\\Scripts\\activate.bat\n",
    "# install the library\n",
    "pip install elabapi-python\n",
    "```"
   ]
  },
  {
   "cell_type": "markdown",
   "id": "96fb603a-e389-4b73-8d0f-7ade90db0468",
   "metadata": {},
   "source": [
    "# Requesting an Experiment\n",
    "To request an experiment, an importer is used, which sends requests to the server and reformats the response arfterwards. For the importer to work, the url of the API as well as an API key need to be provided. The API key can be generated in the user panel of eLabFTW. To not accidentally share a script with the API key in it, the key is stored in an external text file and read from this file when initiating the API."
   ]
  },
  {
   "cell_type": "code",
   "execution_count": 2,
   "id": "61cfc298-578f-4523-8f58-db3461ff932d",
   "metadata": {},
   "outputs": [
    {
     "name": "stdout",
     "output_type": "stream",
     "text": [
      "Created instance of ELNImporter\n",
      "read API key from file: API_key.txt\n",
      "set API configuration: url=https://eln.elaine.uni-rostock.de/api/v2/experiments, api key=yes, permissions=read only\n",
      "sending test request\n",
      "requesting data: limit=1\n",
      "received response for request\n",
      "converting HTTPResponse...\n",
      "successfully created ELNResponse object\n",
      "API was successfully configured\n"
     ]
    },
    {
     "data": {
      "text/plain": [
       "True"
      ]
     },
     "execution_count": 2,
     "metadata": {},
     "output_type": "execute_result"
    }
   ],
   "source": [
    "importer = eLabAPI.ELNImporter(debug=True)\n",
    "importer.attach_api_key_from_file(\"API_key.txt\")\n",
    "importer.configure_api(url=\"https://eln.elaine.uni-rostock.de/api/v2/experiments\", permissions=\"read only\")"
   ]
  },
  {
   "cell_type": "markdown",
   "id": "e4fc7064-c9a9-4d70-8cc7-fa98f51caae9",
   "metadata": {},
   "source": [
    "To request a specific experiment, we can for example search in the title or use the internal id of the entry. Depending on the structure of your titles, searching by title might not be unambiguous. When setting `limit=1`, only one experiment will be requested from the server. You can also increase the limit to receive multiple experiments and then select the one you actually want to import."
   ]
  },
  {
   "cell_type": "code",
   "execution_count": 3,
   "id": "6367cc49-6ed3-459f-81cc-e6a678b591d1",
   "metadata": {},
   "outputs": [
    {
     "name": "stdout",
     "output_type": "stream",
     "text": [
      "requesting data: q=ELN Demo, limit=1\n",
      "received response for request\n",
      "converting HTTPResponse...\n",
      "successfully created ELNResponse object\n",
      "ELNResponse object\n",
      "\tid: 5693\n",
      "\ttitle: ELN Demo\n",
      "\tdate: 2024-10-13\n",
      "\telabid: 20241013-affb1138932ac5644d7c17b737919aa19a972390\n",
      "\tcreated_at: 2024-10-13 17:24:12\n",
      "\tmodified_at: 2024-11-03 11:59:08\n",
      "\tstatus_title: Running\n",
      "\tfullname: Henrik Schröter\n",
      "\texperimentType: general\n",
      "\tuserid: 367\n",
      "\tlocked: 0\n",
      "\trequestTimeStamp: 24-11-06 14:15:45\n",
      "\tbody: 7162 bytes\n",
      "\tuploads: none\n",
      "\n",
      "requesting data: q=id:5693, limit=1\n",
      "received response for request\n",
      "converting HTTPResponse...\n",
      "successfully created ELNResponse object\n",
      "ELNResponse object\n",
      "\tid: 5693\n",
      "\ttitle: ELN Demo\n",
      "\tdate: 2024-10-13\n",
      "\telabid: 20241013-affb1138932ac5644d7c17b737919aa19a972390\n",
      "\tcreated_at: 2024-10-13 17:24:12\n",
      "\tmodified_at: 2024-11-03 11:59:08\n",
      "\tstatus_title: Running\n",
      "\tfullname: Henrik Schröter\n",
      "\texperimentType: general\n",
      "\tuserid: 367\n",
      "\tlocked: 0\n",
      "\trequestTimeStamp: 24-11-06 14:15:45\n",
      "\tbody: 7162 bytes\n",
      "\tuploads: none\n",
      "\n"
     ]
    }
   ],
   "source": [
    "# by searching in the title\n",
    "experiment = importer.request(query=\"ELN Demo\", limit=1)\n",
    "print(experiment)\n",
    "\n",
    "# by id\n",
    "experiment = importer.request(advanced_query=\"id:5693\", limit=1)\n",
    "print(experiment)"
   ]
  },
  {
   "cell_type": "markdown",
   "id": "1764b087-2802-4c4a-a00b-2ee10000914c",
   "metadata": {},
   "source": [
    "The importer returns an `ELNResponse` object, which is the central object that can be used to further work with the imported data from now on. As you can see by the printouts, some important metadata are stored inside this object, which can be accessed by various getter methods. It is also possible to get the raw HTTP data from the server by using the optional argument `return_http_response=True` in `importer.request()`."
   ]
  },
  {
   "cell_type": "markdown",
   "id": "4283dd72-3815-48bd-a383-646e95b1b373",
   "metadata": {},
   "source": [
    "## Requesting attached files\n",
    "Often times, larger datasets are attached to an ELN entry. These datasets can also be requested by using the following request option. The uploads are stored locally and can be opened from the ELNResponse object."
   ]
  },
  {
   "cell_type": "code",
   "execution_count": 4,
   "id": "c96290ab-19eb-4b9d-a141-a66332ad4e1b",
   "metadata": {},
   "outputs": [
    {
     "name": "stdout",
     "output_type": "stream",
     "text": [
      "requesting data: q=id:5693, limit=None\n",
      "received response for request\n",
      "converting HTTPResponse...\n",
      "successfully created ELNResponse object\n",
      "requesting uploads for experiment with id 5693\n",
      "received 4 uploads\n",
      "wrote 4 uploads to directory: C:\\Users\\Henrik Schröter\\Unibox Rostock\\Promotion\\Datenauswertung\\Python\\eLabInterface\\Downloads\\\n",
      "ELNResponse object\n",
      "\tid: 5693\n",
      "\ttitle: ELN Demo\n",
      "\tdate: 2024-10-13\n",
      "\telabid: 20241013-affb1138932ac5644d7c17b737919aa19a972390\n",
      "\tcreated_at: 2024-10-13 17:24:12\n",
      "\tmodified_at: 2024-11-03 11:59:08\n",
      "\tstatus_title: Running\n",
      "\tfullname: Henrik Schröter\n",
      "\texperimentType: general\n",
      "\tuserid: 367\n",
      "\tlocked: 0\n",
      "\trequestTimeStamp: 24-11-06 14:15:45\n",
      "\tbody: 7162 bytes\n",
      "\tuploads: 4\n",
      "\tlocal upload directory: C:\\Users\\Henrik Schröter\\Unibox Rostock\\Promotion\\Datenauswertung\\Python\\eLabInterface\\Downloads\n",
      "\n"
     ]
    }
   ],
   "source": [
    "experiment = importer.request(advanced_query=\"id:5693\", download_uploads=True)\n",
    "print(experiment)"
   ]
  },
  {
   "cell_type": "markdown",
   "id": "a1ccfbbb-9053-428e-a7d9-ed83c13d759e",
   "metadata": {},
   "source": [
    "## Processing the response"
   ]
  },
  {
   "cell_type": "markdown",
   "id": "76122959-0313-4092-a2e1-e898ee0826fd",
   "metadata": {},
   "source": [
    "## General Information\n",
    "Upon receiving the respsonse from the server, some metadatat of ther expeiment are automatically reordered and processed. For example, the experiment type is determined by reading it from the extra fields. These metadata are stored inside a dictionary, which can be accessed by the `get_metadata()` method:"
   ]
  },
  {
   "cell_type": "code",
   "execution_count": 5,
   "id": "b7c19b16-30b1-4d17-af48-cd85178280cc",
   "metadata": {},
   "outputs": [
    {
     "name": "stdout",
     "output_type": "stream",
     "text": [
      "full dictionary: {'id': 5693, 'title': 'ELN Demo', 'date': '2024-10-13', 'elabid': '20241013-affb1138932ac5644d7c17b737919aa19a972390', 'created_at': '2024-10-13 17:24:12', 'modified_at': '2024-11-03 11:59:08', 'status_title': 'Running', 'tags': None, 'fullname': 'Henrik Schröter', 'experimentType': 'general', 'userid': 367, 'locked': 0, 'lockedby': None, 'locked_at': None, 'requestTimeStamp': '24-11-06 14:15:45'}\n",
      "type: general\n",
      "title: ELN Demo\n"
     ]
    }
   ],
   "source": [
    "print(\"full dictionary:\", experiment.get_metadata())\n",
    "print(\"type:\", experiment.get_metadata(\"experimentType\"))\n",
    "print(\"title:\", experiment.get_metadata(\"title\"))"
   ]
  },
  {
   "cell_type": "markdown",
   "id": "a3834f32-742e-43bd-b94c-28c76bf1a40c",
   "metadata": {},
   "source": [
    "Metadata can also be set manually by the user. If an existing value is overwritten, this is noted inside the log."
   ]
  },
  {
   "cell_type": "code",
   "execution_count": 6,
   "id": "051bab5b-bcbb-4c47-a4f6-c7867c3cad53",
   "metadata": {},
   "outputs": [
    {
     "name": "stdout",
     "output_type": "stream",
     "text": [
      "metadata element 'fullname' was overwritten by user\n"
     ]
    }
   ],
   "source": [
    "experiment.toggle_debug(True)\n",
    "experiment.add_metadata(\"comment\", \"metadata are important\")\n",
    "experiment.add_metadata(\"fullname\", \"Max Mustermann\")"
   ]
  },
  {
   "cell_type": "markdown",
   "id": "43d14b95-ce2d-4b22-bf78-5f8615721737",
   "metadata": {},
   "source": [
    "### Extracting Data from the Body\n",
    "Data that is stored in tabular format inside the main body of the ELN entry can be extracted from the response object:"
   ]
  },
  {
   "cell_type": "code",
   "execution_count": 18,
   "id": "a402acc8-fa3c-4cb0-be7d-d35c1a61e6cc",
   "metadata": {},
   "outputs": [
    {
     "data": {
      "text/plain": [
       "[<eLabAPI.TabularData at 0x1936debee20>,\n",
       " <eLabAPI.TabularData at 0x1936ddddfa0>,\n",
       " <eLabAPI.TabularData at 0x1936c68a9a0>,\n",
       " <eLabAPI.TabularData at 0x1936deb4f40>,\n",
       " <eLabAPI.TabularData at 0x193697a7190>]"
      ]
     },
     "execution_count": 18,
     "metadata": {},
     "output_type": "execute_result"
    }
   ],
   "source": [
    "experiment.toggle_debug(True)\n",
    "experiment.extract_tables(output_format=\"dataframes\", decimal=\",\")\n"
   ]
  },
  {
   "cell_type": "markdown",
   "id": "362c88b5-0af5-431c-a035-c019e8763991",
   "metadata": {},
   "source": [
    "The data is returned as a `TabularData` object, which essentially contains the tabular data as an pandas DataFrame but can hold additional metadata, such as the title of the table. The title is automatically set, when it is specified in the first line of the table with '.' as an indicator (see above example entry). By this, tabular data can easily retreived:"
   ]
  },
  {
   "cell_type": "code",
   "execution_count": 19,
   "id": "b30100f4-1b83-4227-8d02-4273cf9f7303",
   "metadata": {},
   "outputs": [
    {
     "name": "stdout",
     "output_type": "stream",
     "text": [
      "                  0                      1\n",
      "0  temperature / °C               25 ± 0,5\n",
      "1    pressure / bar                      5\n",
      "2  item of interest  a beaker full of acid\n",
      "3            device       the time machine\n",
      "4     device method     back to the future\n"
     ]
    }
   ],
   "source": [
    "parameter_table = experiment.return_table_as_pd(\"a table with some parameters\")\n",
    "print(parameter_table.to_string())"
   ]
  },
  {
   "cell_type": "markdown",
   "id": "ffc56646-9af6-4136-9404-3a8909933b29",
   "metadata": {},
   "source": [
    "It is also possible to further process the data and plot some results. At the moment, the data in the columns needs to be manually converted to numeric values (this will likely change in the future). In this example, the mean and std of the absorbances noted in the ELN entry and the results are plotted against the time. Additionally, some metadata are attached to the plot as text by looking them up in the ELNResponse's metadata."
   ]
  },
  {
   "cell_type": "code",
   "execution_count": 27,
   "id": "d610829c-713c-4bef-bc12-6ccfa183b750",
   "metadata": {},
   "outputs": [
    {
     "name": "stdout",
     "output_type": "stream",
     "text": [
      "   time / h  absorbance  absorbance  absorbance  mean absorbance  \\\n",
      "0      0.00        0.56        0.57        0.59         0.573333   \n",
      "1      0.25        0.46        0.43        0.47         0.453333   \n",
      "2      0.50        0.34        0.34         NaN         0.340000   \n",
      "3      2.00        0.02        0.04        0.03         0.030000   \n",
      "4     24.00        0.01        0.02        0.02         0.016667   \n",
      "\n",
      "   std absorbance  \n",
      "0        0.015275  \n",
      "1        0.020817  \n",
      "2        0.000000  \n",
      "3        0.010000  \n",
      "4        0.005774  \n"
     ]
    },
    {
     "data": {
      "image/png": "[encoded data removed]",
      "text/plain": [
       "<Figure size 640x480 with 1 Axes>"
      ]
     },
     "metadata": {},
     "output_type": "display_data"
    }
   ],
   "source": [
    "import pandas as pd\n",
    "\n",
    "numeric_data = experiment.return_table_as_pd(\"some time-resolved measurement data\")\n",
    "numeric_data = numeric_data.apply(lambda i: pd.to_numeric(i, errors=\"coerce\"))\n",
    "\n",
    "numeric_data[\"mean absorbance\"] = numeric_data.iloc[:, 1:4].mean(axis=1)\n",
    "numeric_data[\"std absorbance\"] = numeric_data.iloc[:, 1:4].std(axis=1)\n",
    "\n",
    "numeric_data.plot(x=\"time / h\", y=\"mean absorbance\", yerr=\"std absorbance\", kind=\"scatter\")\n",
    "plt.text(10, 0.55, f\"\"\"Experiment: {experiment.get_metadata(\"title\")} (ID {experiment.get_metadata(\"id\")})\"\"\")\n",
    "\n",
    "print(numeric_data)\n",
    "\n",
    "plt.show()"
   ]
  },
  {
   "cell_type": "markdown",
   "id": "3cb7d129-993c-416f-8c76-5fb174c67143",
   "metadata": {},
   "source": [
    "### Reading Uploads\n",
    "At the moment, csv and txt files are supported. Other text-based formats such as json or yaml can also be opened as a string but need to be converted afterwards for now. Here a csv file is opened, converted to a pandas dataframe and can then be plotted."
   ]
  },
  {
   "cell_type": "code",
   "execution_count": 28,
   "id": "52b336f2-c57e-439a-ba9a-e0fcc72b9de7",
   "metadata": {},
   "outputs": [
    {
     "name": "stdout",
     "output_type": "stream",
     "text": [
      "Attached uploads:\n",
      "\tfull_dataset.zip\n",
      "\traw_data.csv\n",
      "\tsetup.png\n",
      "\tresult_graph.png\n",
      "\n",
      "Filetype 'png' is not supported yet!\n"
     ]
    },
    {
     "data": {
      "image/png": "[encoded data removed]",
      "text/plain": [
       "<Figure size 640x480 with 1 Axes>"
      ]
     },
     "metadata": {},
     "output_type": "display_data"
    }
   ],
   "source": [
    "import matplotlib.pyplot as plt\n",
    "\n",
    "experiment.list_uploads()\n",
    "csv_data = experiment.open_upload(\"raw_data.csv\")\n",
    "\n",
    "plt.plot(csv_data[\"numberrange\"])\n",
    "\n",
    "\n",
    "image = experiment.open_upload(\"setup.png\")"
   ]
  },
  {
   "cell_type": "markdown",
   "id": "0a755709-92b8-4b2d-8f74-4e5054745d14",
   "metadata": {},
   "source": [
    "## Saving results\n",
    "At the moment, eLabInterface only supports reading from the eLabFTW server and results can not be directly sent to the server. However, it is possible to export processed or extracted data to a file. For extracted tables, only saving tables by index is supported at the moment."
   ]
  },
  {
   "cell_type": "code",
   "execution_count": 33,
   "id": "246adb06-f4a8-488b-babe-03064075e50f",
   "metadata": {},
   "outputs": [],
   "source": [
    "experiment.save_to_csv(\"Downloads/test.csv\", 3) # selects the 4th table (index 3) in the ELN entry\n",
    "numeric_data.to_csv(\"Downloads/test2.csv\") # normal pandas functionality"
   ]
  },
  {
   "cell_type": "markdown",
   "id": "b0881be3-6815-470a-81a9-ba7eac0fed81",
   "metadata": {},
   "source": [
    "## Logging\n",
    "The various classes used during this workflow write logs during operation, to document processing steps or aid with debugging. By setting the option `debug=True` upon creation of `ELNImporter` or `ELNResponse` objects, the log messages will also be printed in the console. A more or less complete log of the whole process can be accessed from the ELNResponse instances. As multiple requests have been sent via the API in this example, the log might look a bit chaotic than usual."
   ]
  },
  {
   "cell_type": "code",
   "execution_count": 36,
   "id": "5b2a0d37-7434-4a03-82cb-7192f9fb5061",
   "metadata": {},
   "outputs": [
    {
     "name": "stdout",
     "output_type": "stream",
     "text": [
      "24-11-06 14:14:33.776312\tResponse\tUSR\tAttached uploads:\n",
      "24-11-06 14:14:33.799297\tFilemanager\tUSR\tFiletype 'png' is not supported yet!\n",
      "24-11-06 14:14:44.903508\tImporter\tPRC\tCreated instance of ELNImporter\n",
      "24-11-06 14:14:44.904505\tImporter\tFIL\tread API key from file: API_key.txt\n",
      "24-11-06 14:14:44.904505\tImporter\tCOM\tset API configuration: url=https://eln.elaine.uni-rostock.de/api/v2/experiments, api key=yes, permissions=read only\n",
      "24-11-06 14:14:44.904505\tImporter\tCOM\tsending test request\n",
      "24-11-06 14:14:44.913499\tImporter\tCOM\trequesting data: limit=1\n",
      "24-11-06 14:14:45.031426\tImporter\tCOM\treceived response for request\n",
      "24-11-06 14:14:45.031426\tImporter\tPRC\tconverting HTTPResponse...\n",
      "24-11-06 14:14:45.031426\tImporter\tPRC\tsuccessfully created ELNResponse object\n",
      "24-11-06 14:14:45.034424\tImporter\tCOM\tAPI was successfully configured\n",
      "24-11-06 14:14:45.066405\tImporter\tCOM\trequesting data: q=ELN Demo, limit=1\n",
      "24-11-06 14:14:45.178335\tImporter\tCOM\treceived response for request\n",
      "24-11-06 14:14:45.178335\tImporter\tPRC\tconverting HTTPResponse...\n",
      "24-11-06 14:14:45.179335\tImporter\tPRC\tsuccessfully created ELNResponse object\n",
      "24-11-06 14:14:45.189331\tImporter\tCOM\trequesting data: q=id:5693, limit=1\n",
      "24-11-06 14:14:45.301259\tImporter\tCOM\treceived response for request\n",
      "24-11-06 14:14:45.302260\tImporter\tPRC\tconverting HTTPResponse...\n",
      "24-11-06 14:14:45.302260\tImporter\tPRC\tsuccessfully created ELNResponse object\n",
      "24-11-06 14:14:45.339236\tImporter\tCOM\trequesting data: q=id:5693, limit=None\n",
      "24-11-06 14:14:45.445169\tImporter\tCOM\treceived response for request\n",
      "24-11-06 14:14:45.445169\tImporter\tPRC\tconverting HTTPResponse...\n",
      "24-11-06 14:14:45.446168\tResponse\tPRC\tCreated instance of ELNResponse\n",
      "24-11-06 14:14:45.446168\tResponse\tPRC\tidentified experiment type: general\n",
      "24-11-06 14:14:45.446168\tImporter\tPRC\tsuccessfully created ELNResponse object\n",
      "24-11-06 14:14:45.446168\tFilemanager\tPRC\tCreated instance of FileManager\n",
      "24-11-06 14:14:45.448167\tImporter\tCOM\trequesting uploads for experiment with id 5693\n",
      "24-11-06 14:14:45.550104\tImporter\tCOM\treceived 4 uploads\n",
      "24-11-06 14:14:46.043406\tImporter\tFIL\twrote 4 uploads to directory: C:\\Users\\Henrik Schröter\\Unibox Rostock\\Promotion\\Datenauswertung\\Python\\eLabInterface\\Downloads\\\n",
      "24-11-06 14:14:46.086380\tResponse\tWRN\tmetadata element 'fullname' was overwritten by user\n",
      "24-11-06 14:14:46.147342\tResponse\tUSR\tAttached uploads:\n",
      "24-11-06 14:14:46.183319\tFilemanager\tUSR\tFiletype 'png' is not supported yet!\n",
      "\n",
      "\n",
      "=== Response ===\n",
      "\n",
      "24-11-06 14:14:45.446168\tPRC\tCreated instance of ELNResponse\n",
      "24-11-06 14:14:45.446168\tPRC\tidentified experiment type: general\n",
      "24-11-06 14:14:46.086380\tWRN\tmetadata element 'fullname' was overwritten by user\n",
      "24-11-06 14:14:46.147342\tUSR\tAttached uploads:\n",
      "\tfull_dataset.zip\n",
      "\traw_data.csv\n",
      "\tsetup.png\n",
      "\tresult_graph.png\n",
      "\n",
      "24-11-06 14:14:33.776312\tUSR\tAttached uploads:\n",
      "\tfull_dataset.zip\n",
      "\traw_data.csv\n",
      "\tsetup.png\n",
      "\tresult_graph.png\n",
      "\n",
      "            \n",
      "=== Importer ===\n",
      "\n",
      "24-11-06 14:14:44.903508\tPRC\tCreated instance of ELNImporter\n",
      "24-11-06 14:14:44.904505\tFIL\tread API key from file: API_key.txt\n",
      "24-11-06 14:14:44.904505\tCOM\tset API configuration: url=https://eln.elaine.uni-rostock.de/api/v2/experiments, api key=yes, permissions=read only\n",
      "24-11-06 14:14:44.904505\tCOM\tsending test request\n",
      "24-11-06 14:14:44.913499\tCOM\trequesting data: limit=1\n",
      "24-11-06 14:14:45.031426\tCOM\treceived response for request\n",
      "24-11-06 14:14:45.031426\tPRC\tconverting HTTPResponse...\n",
      "24-11-06 14:14:45.031426\tPRC\tsuccessfully created ELNResponse object\n",
      "24-11-06 14:14:45.034424\tCOM\tAPI was successfully configured\n",
      "24-11-06 14:14:45.066405\tCOM\trequesting data: q=ELN Demo, limit=1\n",
      "24-11-06 14:14:45.178335\tCOM\treceived response for request\n",
      "24-11-06 14:14:45.178335\tPRC\tconverting HTTPResponse...\n",
      "24-11-06 14:14:45.179335\tPRC\tsuccessfully created ELNResponse object\n",
      "24-11-06 14:14:45.189331\tCOM\trequesting data: q=id:5693, limit=1\n",
      "24-11-06 14:14:45.301259\tCOM\treceived response for request\n",
      "24-11-06 14:14:45.302260\tPRC\tconverting HTTPResponse...\n",
      "24-11-06 14:14:45.302260\tPRC\tsuccessfully created ELNResponse object\n",
      "24-11-06 14:14:45.339236\tCOM\trequesting data: q=id:5693, limit=None\n",
      "24-11-06 14:14:45.445169\tCOM\treceived response for request\n",
      "24-11-06 14:14:45.445169\tPRC\tconverting HTTPResponse...\n",
      "24-11-06 14:14:45.446168\tPRC\tsuccessfully created ELNResponse object\n",
      "24-11-06 14:14:45.448167\tCOM\trequesting uploads for experiment with id 5693\n",
      "24-11-06 14:14:45.550104\tCOM\treceived 4 uploads\n",
      "24-11-06 14:14:46.043406\tFIL\twrote 4 uploads to directory: C:\\Users\\Henrik Schröter\\Unibox Rostock\\Promotion\\Datenauswertung\\Python\\eLabInterface\\Downloads\\\n",
      "            \n",
      "=== FileManager ===\n",
      "\n",
      "24-11-06 14:14:45.446168\tPRC\tCreated instance of FileManager\n",
      "24-11-06 14:14:46.183319\tUSR\tFiletype 'png' is not supported yet!\n",
      "24-11-06 14:14:33.799297\tUSR\tFiletype 'png' is not supported yet!\n",
      "            \n"
     ]
    }
   ],
   "source": [
    "print(experiment.log_to_str())\n",
    "print(experiment.log_to_str(\"sections\"))"
   ]
  }
 ],
 "metadata": {
  "kernelspec": {
   "display_name": "Python 3 (ipykernel)",
   "language": "python",
   "name": "python3"
  },
  "language_info": {
   "codemirror_mode": {
    "name": "ipython",
    "version": 3
   },
   "file_extension": ".py",
   "mimetype": "text/x-python",
   "name": "python",
   "nbconvert_exporter": "python",
   "pygments_lexer": "ipython3",
   "version": "3.9.13"
  }
 },
 "nbformat": 4,
 "nbformat_minor": 5
}
